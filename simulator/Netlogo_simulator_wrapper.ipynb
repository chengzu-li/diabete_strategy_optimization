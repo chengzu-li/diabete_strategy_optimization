{
 "cells": [
  {
   "cell_type": "markdown",
   "id": "80da22a2",
   "metadata": {},
   "source": [
    "# Simulator Wrapper"
   ]
  },
  {
   "cell_type": "code",
   "execution_count": 1,
   "id": "76a6bcab",
   "metadata": {
    "collapsed": true
   },
   "outputs": [
    {
     "name": "stdout",
     "output_type": "stream",
     "text": [
      "Requirement already satisfied: pyNetLogo in d:\\programs\\anaconda3\\lib\\site-packages (0.4.2)\n",
      "Requirement already satisfied: JPype1 in d:\\programs\\anaconda3\\lib\\site-packages (1.4.1)\n",
      "Requirement already satisfied: packaging in d:\\programs\\anaconda3\\lib\\site-packages (from JPype1) (20.9)\n",
      "Requirement already satisfied: pyparsing>=2.0.2 in d:\\programs\\anaconda3\\lib\\site-packages (from packaging->JPype1) (2.4.7)\n",
      "Requirement already satisfied: GPy==1.10.0 in d:\\programs\\anaconda3\\lib\\site-packages (1.10.0)\n",
      "Requirement already satisfied: scipy>=1.3.0 in d:\\programs\\anaconda3\\lib\\site-packages (from GPy==1.10.0) (1.6.2)\n",
      "Requirement already satisfied: paramz>=0.9.0 in d:\\programs\\anaconda3\\lib\\site-packages (from GPy==1.10.0) (0.9.5)\n",
      "Requirement already satisfied: numpy>=1.7 in d:\\programs\\anaconda3\\lib\\site-packages (from GPy==1.10.0) (1.20.1)\n",
      "Requirement already satisfied: six in d:\\programs\\anaconda3\\lib\\site-packages (from GPy==1.10.0) (1.15.0)\n",
      "Requirement already satisfied: cython>=0.29 in d:\\programs\\anaconda3\\lib\\site-packages (from GPy==1.10.0) (0.29.23)\n",
      "Requirement already satisfied: decorator>=4.0.10 in d:\\programs\\anaconda3\\lib\\site-packages (from paramz>=0.9.0->GPy==1.10.0) (5.0.6)\n",
      "Requirement already satisfied: GPyOpt==1.2.1 in d:\\programs\\anaconda3\\lib\\site-packages (1.2.1)\n",
      "Requirement already satisfied: numpy>=1.7 in d:\\programs\\anaconda3\\lib\\site-packages (from GPyOpt==1.2.1) (1.20.1)\n",
      "Requirement already satisfied: scipy>=0.16 in d:\\programs\\anaconda3\\lib\\site-packages (from GPyOpt==1.2.1) (1.6.2)\n",
      "Requirement already satisfied: GPy>=1.8 in d:\\programs\\anaconda3\\lib\\site-packages (from GPyOpt==1.2.1) (1.10.0)\n",
      "Requirement already satisfied: six in d:\\programs\\anaconda3\\lib\\site-packages (from GPy>=1.8->GPyOpt==1.2.1) (1.15.0)\n",
      "Requirement already satisfied: paramz>=0.9.0 in d:\\programs\\anaconda3\\lib\\site-packages (from GPy>=1.8->GPyOpt==1.2.1) (0.9.5)\n",
      "Requirement already satisfied: cython>=0.29 in d:\\programs\\anaconda3\\lib\\site-packages (from GPy>=1.8->GPyOpt==1.2.1) (0.29.23)\n",
      "Requirement already satisfied: decorator>=4.0.10 in d:\\programs\\anaconda3\\lib\\site-packages (from paramz>=0.9.0->GPy>=1.8->GPyOpt==1.2.1) (5.0.6)\n",
      "Requirement already satisfied: emukit in d:\\programs\\anaconda3\\lib\\site-packages (0.4.10)\n",
      "Requirement already satisfied: scipy>=1.1.0 in d:\\programs\\anaconda3\\lib\\site-packages (from emukit) (1.6.2)\n",
      "Requirement already satisfied: emcee>=2.2.1 in d:\\programs\\anaconda3\\lib\\site-packages (from emukit) (3.1.3)\n",
      "Requirement already satisfied: GPy[plotting]>=1.10.0 in d:\\programs\\anaconda3\\lib\\site-packages (from emukit) (1.10.0)\n",
      "Requirement already satisfied: setuptools>=40.8.0 in d:\\programs\\anaconda3\\lib\\site-packages (from emukit) (52.0.0.post20210125)\n",
      "Requirement already satisfied: numpy>=1.14.5 in d:\\programs\\anaconda3\\lib\\site-packages (from emukit) (1.20.1)\n",
      "Requirement already satisfied: cython>=0.29 in d:\\programs\\anaconda3\\lib\\site-packages (from GPy[plotting]>=1.10.0->emukit) (0.29.23)\n",
      "Requirement already satisfied: six in d:\\programs\\anaconda3\\lib\\site-packages (from GPy[plotting]>=1.10.0->emukit) (1.15.0)\n",
      "Requirement already satisfied: paramz>=0.9.0 in d:\\programs\\anaconda3\\lib\\site-packages (from GPy[plotting]>=1.10.0->emukit) (0.9.5)\n",
      "Requirement already satisfied: matplotlib>=3.0 in d:\\programs\\anaconda3\\lib\\site-packages (from GPy[plotting]>=1.10.0->emukit) (3.3.4)\n",
      "Requirement already satisfied: plotly>=1.8.6 in d:\\programs\\anaconda3\\lib\\site-packages (from GPy[plotting]>=1.10.0->emukit) (5.11.0)\n",
      "Requirement already satisfied: kiwisolver>=1.0.1 in d:\\programs\\anaconda3\\lib\\site-packages (from matplotlib>=3.0->GPy[plotting]>=1.10.0->emukit) (1.3.1)\n",
      "Requirement already satisfied: cycler>=0.10 in d:\\programs\\anaconda3\\lib\\site-packages (from matplotlib>=3.0->GPy[plotting]>=1.10.0->emukit) (0.10.0)\n",
      "Requirement already satisfied: pillow>=6.2.0 in d:\\programs\\anaconda3\\lib\\site-packages (from matplotlib>=3.0->GPy[plotting]>=1.10.0->emukit) (8.2.0)\n",
      "Requirement already satisfied: python-dateutil>=2.1 in d:\\programs\\anaconda3\\lib\\site-packages (from matplotlib>=3.0->GPy[plotting]>=1.10.0->emukit) (2.8.1)\n",
      "Requirement already satisfied: pyparsing!=2.0.4,!=2.1.2,!=2.1.6,>=2.0.3 in d:\\programs\\anaconda3\\lib\\site-packages (from matplotlib>=3.0->GPy[plotting]>=1.10.0->emukit) (2.4.7)\n",
      "Requirement already satisfied: decorator>=4.0.10 in d:\\programs\\anaconda3\\lib\\site-packages (from paramz>=0.9.0->GPy[plotting]>=1.10.0->emukit) (5.0.6)\n",
      "Requirement already satisfied: tenacity>=6.2.0 in d:\\programs\\anaconda3\\lib\\site-packages (from plotly>=1.8.6->GPy[plotting]>=1.10.0->emukit) (8.1.0)\n"
     ]
    }
   ],
   "source": [
    "!pip install pyNetLogo\n",
    "!pip install JPype1\n",
    "!pip install GPy==1.10.0\n",
    "!pip install GPyOpt==1.2.1\n",
    "!pip install emukit"
   ]
  },
  {
   "cell_type": "code",
   "execution_count": 1,
   "id": "08236c6e",
   "metadata": {},
   "outputs": [],
   "source": [
    "import numpy as np"
   ]
  },
  {
   "cell_type": "markdown",
   "id": "629fd3a0",
   "metadata": {},
   "source": [
    "Here you should specify the dorectory where you install the NetLogo. "
   ]
  },
  {
   "cell_type": "code",
   "execution_count": 2,
   "id": "a6a312e9",
   "metadata": {},
   "outputs": [],
   "source": [
    "import pandas as pd\n",
    "import matplotlib.pyplot as plt\n",
    "import seaborn as sns\n",
    "sns.set_style('white')\n",
    "sns.set_context('talk')\n",
    "\n",
    "import pyNetLogo\n",
    "\n",
    "netlogo = pyNetLogo.NetLogoLink(gui=False, netlogo_home=r\"D:\\Programs\\NetLogo 6.2.0\", netlogo_version=\"6.2\")"
   ]
  },
  {
   "cell_type": "markdown",
   "id": "a4dd6fc5",
   "metadata": {},
   "source": [
    "Here you should specify the path of the Netlogo model you have downloaded in order to load the model."
   ]
  },
  {
   "cell_type": "code",
   "execution_count": 3,
   "id": "aeb3f9ae",
   "metadata": {},
   "outputs": [],
   "source": [
    "netlogo.load_model(r'C:\\Users\\Chengzu\\Downloads\\Blood_Sugar_Regulation.nlogo')"
   ]
  },
  {
   "cell_type": "code",
   "execution_count": 4,
   "id": "6bf5d967",
   "metadata": {},
   "outputs": [],
   "source": [
    "problem = {\n",
    "        'num_vars': 4,\n",
    "        'names': [\n",
    "                  'metabolic-rate',\n",
    "                  'insulin-sensitivity',\n",
    "                  'glucose-sensitivity',\n",
    "                  'glucagon-sensitivity',\n",
    "                  ],\n",
    "        'bounds': [[0, 200],\n",
    "                   [0., 1.],\n",
    "                   [0., 1.],\n",
    "                   [0., 1.]]\n",
    "    }"
   ]
  },
  {
   "cell_type": "code",
   "execution_count": 5,
   "id": "c5b342a4",
   "metadata": {},
   "outputs": [],
   "source": [
    "def run_simulation(experiment, start_time_step=90, end_time_step=100):\n",
    "    \"\"\" run a netlogo model\n",
    "    Parameters\n",
    "    ----------\n",
    "    experiments : dict\n",
    "    \"\"\"\n",
    "\n",
    "    # Set the input parameters\n",
    "    \n",
    "    for key, value in experiment.items():\n",
    "        if key == 'random-seed':\n",
    "            # The NetLogo random seed requires a different syntax\n",
    "            netlogo.command('random-seed {}'.format(value))\n",
    "        else:\n",
    "            # Otherwise, assume the input parameters are global variables\n",
    "            netlogo.command('set {0} {1}'.format(key, value))\n",
    "\n",
    "    netlogo.command('setup')\n",
    "    # Run for 100 ticks and return the number of glucose\n",
    "    counts = netlogo.repeat_report(['count glucoses', 'count insulins', 'count glucagons'], 101)\n",
    "\n",
    "    results = pd.Series([counts['count glucoses'].values[start_time_step: end_time_step].mean()],\n",
    "                        index=['Avg. glucoses'])\n",
    "    return results"
   ]
  },
  {
   "cell_type": "markdown",
   "id": "47d1102d",
   "metadata": {},
   "source": [
    "# Load Specified Parameters"
   ]
  },
  {
   "cell_type": "code",
   "execution_count": 6,
   "id": "35f63eda",
   "metadata": {},
   "outputs": [],
   "source": [
    "def specify_parameters(file: str, variable_X: list):\n",
    "    '''\n",
    "    The file should be a .csv file, with who, metabolic-rate, insulin-sensitivity, glucose-sensitivity, glucagon-sensitivity as its title.\n",
    "    The returned params are a list full of lists\n",
    "    '''\n",
    "    params = []\n",
    "    import pandas as pd\n",
    "    df = pd.read_csv(file)\n",
    "    for i in range(len(df)):\n",
    "        item = df.iloc[i].to_dict()\n",
    "        _ = item.pop(\"who\")\n",
    "        item_values = []\n",
    "        for k, v in item.items():\n",
    "            if k not in variable_X:\n",
    "                continue\n",
    "            else:\n",
    "                if k == \"metabolic-rate\":\n",
    "                    v = v/200\n",
    "                item_values.append(v)\n",
    "        params.append(item_values)\n",
    "    return params"
   ]
  },
  {
   "cell_type": "markdown",
   "id": "6801a483",
   "metadata": {},
   "source": [
    "# Initialize Simulator"
   ]
  },
  {
   "cell_type": "code",
   "execution_count": 7,
   "id": "988ffedf",
   "metadata": {},
   "outputs": [],
   "source": [
    "class Simulator:\n",
    "    def __init__(self, variable_X):\n",
    "        self.variable_X = variable_X\n",
    "        \n",
    "    def simulate(self, input_values):\n",
    "        assert len(input_values[0]) == len(self.variable_X)\n",
    "        item = {}\n",
    "        for k, v in zip(self.variable_X, input_values[0]):\n",
    "            if k == \"metabolic-rate\":\n",
    "                v = v * 200\n",
    "            item[k] = v\n",
    "        result = run_simulation(item)\n",
    "        return np.array([result['Avg. glucoses']]).reshape(-1, 1)\n",
    "    \n",
    "    def opt_simulate(self, input_values):\n",
    "        assert len(input_values[0]) == len(self.variable_X)\n",
    "        item = {}\n",
    "        for k, v in zip(self.variable_X, input_values[0]):\n",
    "            if k == \"metabolic-rate\":\n",
    "                v = v * 200\n",
    "            item[k] = v\n",
    "        result = run_simulation(item)\n",
    "        return np.array([np.abs(result['Avg. glucoses'] - 4000)]).reshape(-1, 1)"
   ]
  },
  {
   "cell_type": "markdown",
   "id": "3ad0a716",
   "metadata": {},
   "source": [
    "# Experiments"
   ]
  },
  {
   "cell_type": "code",
   "execution_count": null,
   "id": "de0b0f24",
   "metadata": {},
   "outputs": [],
   "source": [
    "filepath = \"../my_sample_data.csv\""
   ]
  },
  {
   "cell_type": "code",
   "execution_count": 18,
   "id": "63a90613",
   "metadata": {},
   "outputs": [],
   "source": [
    "variable_X = [\"metabolic-rate\", \"insulin-sensitivity\", \"glucose-sensitivity\", \"glucagon-sensitivity\"]\n",
    "simulator = Simulator(variable_X)"
   ]
  },
  {
   "cell_type": "code",
   "execution_count": 19,
   "id": "886907ab",
   "metadata": {},
   "outputs": [],
   "source": [
    "X = specify_parameters(\n",
    "    file=filepath,\n",
    "    variable_X=variable_X\n",
    ")"
   ]
  },
  {
   "cell_type": "code",
   "execution_count": 20,
   "id": "fec88a0e",
   "metadata": {},
   "outputs": [],
   "source": [
    "Y = [simulator.simulate([p]).reshape(-1)[0] for p in X]"
   ]
  }
 ],
 "metadata": {
  "kernelspec": {
   "display_name": "Python 3",
   "language": "python",
   "name": "python3"
  },
  "language_info": {
   "codemirror_mode": {
    "name": "ipython",
    "version": 3
   },
   "file_extension": ".py",
   "mimetype": "text/x-python",
   "name": "python",
   "nbconvert_exporter": "python",
   "pygments_lexer": "ipython3",
   "version": "3.8.8"
  }
 },
 "nbformat": 4,
 "nbformat_minor": 5
}
