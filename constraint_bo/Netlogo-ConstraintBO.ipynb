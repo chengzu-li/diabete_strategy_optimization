{
 "cells": [
  {
   "cell_type": "markdown",
   "id": "80da22a2",
   "metadata": {},
   "source": [
    "# Simulator Wrapper"
   ]
  },
  {
   "cell_type": "code",
   "execution_count": 1,
   "id": "76a6bcab",
   "metadata": {},
   "outputs": [],
   "source": [
    "!pip install pyNetLogo\n",
    "!pip install JPype1\n",
    "!pip install GPy==1.10.0\n",
    "!pip install GPyOpt==1.2.1\n",
    "!pip install emukit"
   ]
  },
  {
   "cell_type": "code",
   "execution_count": 2,
   "id": "08236c6e",
   "metadata": {},
   "outputs": [],
   "source": [
    "import numpy as np"
   ]
  },
  {
   "cell_type": "code",
   "execution_count": 3,
   "id": "a6a312e9",
   "metadata": {},
   "outputs": [],
   "source": [
    "import pandas as pd\n",
    "import matplotlib.pyplot as plt\n",
    "import seaborn as sns\n",
    "sns.set_style('white')\n",
    "sns.set_context('talk')\n",
    "\n",
    "import pyNetLogo\n",
    "\n",
    "netlogo = pyNetLogo.NetLogoLink(gui=False, netlogo_home=r\"D:\\Programs\\NetLogo 6.2.0\", netlogo_version=\"6.2\")"
   ]
  },
  {
   "cell_type": "code",
   "execution_count": 4,
   "id": "aeb3f9ae",
   "metadata": {},
   "outputs": [],
   "source": [
    "netlogo.load_model(r'C:\\Users\\Chengzu\\Downloads\\Blood_Sugar_Regulation.nlogo')"
   ]
  },
  {
   "cell_type": "code",
   "execution_count": 5,
   "id": "6bf5d967",
   "metadata": {},
   "outputs": [],
   "source": [
    "problem = {\n",
    "        'num_vars': 4,\n",
    "        'names': [\n",
    "                  'metabolic-rate',\n",
    "                  'insulin-sensitivity',\n",
    "                  'glucose-sensitivity',\n",
    "                  'glucagon-sensitivity',\n",
    "                  ],\n",
    "        'bounds': [[0, 200],\n",
    "                   [0., 1.],\n",
    "                   [0., 1.],\n",
    "                   [0., 1.]]\n",
    "    }"
   ]
  },
  {
   "cell_type": "code",
   "execution_count": 6,
   "id": "c5b342a4",
   "metadata": {},
   "outputs": [],
   "source": [
    "def run_simulation(experiment, start_time_step=90, end_time_step=100):\n",
    "    \"\"\" run a netlogo model\n",
    "    Parameters\n",
    "    ----------\n",
    "    experiments : dict\n",
    "    \"\"\"\n",
    "\n",
    "    # Set the input parameters\n",
    "    \n",
    "    for key, value in experiment.items():\n",
    "        if key == 'random-seed':\n",
    "            # The NetLogo random seed requires a different syntax\n",
    "            netlogo.command('random-seed {}'.format(value))\n",
    "        else:\n",
    "            # Otherwise, assume the input parameters are global variables\n",
    "            netlogo.command('set {0} {1}'.format(key, value))\n",
    "\n",
    "    netlogo.command('setup')\n",
    "    # Run for 100 ticks and return the number of glucose\n",
    "    counts = netlogo.repeat_report(['count glucoses', 'count insulins', 'count glucagons'], 101)\n",
    "\n",
    "    results = pd.Series([counts['count glucoses'].values[start_time_step: end_time_step].mean()],\n",
    "                        index=['Avg. glucoses'])\n",
    "    return results"
   ]
  },
  {
   "cell_type": "markdown",
   "id": "47d1102d",
   "metadata": {},
   "source": [
    "# Load Specified Parameters"
   ]
  },
  {
   "cell_type": "code",
   "execution_count": 7,
   "id": "35f63eda",
   "metadata": {},
   "outputs": [],
   "source": [
    "def specify_parameters(file: str, variable_X: list):\n",
    "    '''\n",
    "    The file should be a .csv file, with who, metabolic-rate, insulin-sensitivity, glucose-sensitivity, glucagon-sensitivity as its title.\n",
    "    The returned params are a list full of lists\n",
    "    '''\n",
    "    params = []\n",
    "    import pandas as pd\n",
    "    df = pd.read_csv(file)\n",
    "    for i in range(len(df)):\n",
    "        item = df.iloc[i].to_dict()\n",
    "        _ = item.pop(\"who\")\n",
    "        item_values = []\n",
    "        for k, v in item.items():\n",
    "            if k not in variable_X:\n",
    "                continue\n",
    "            else:\n",
    "                if k == \"metabolic-rate\":\n",
    "                    v = v/200\n",
    "                item_values.append(v)\n",
    "        params.append(item_values)\n",
    "    return params"
   ]
  },
  {
   "cell_type": "markdown",
   "id": "6801a483",
   "metadata": {},
   "source": [
    "# Initialize Simulator"
   ]
  },
  {
   "cell_type": "code",
   "execution_count": 8,
   "id": "988ffedf",
   "metadata": {},
   "outputs": [],
   "source": [
    "class Simulator:\n",
    "    def __init__(self, variable_X):\n",
    "        self.variable_X = variable_X\n",
    "        \n",
    "    def simulate(self, input_values):\n",
    "        assert len(input_values[0]) == len(self.variable_X)\n",
    "        item = {}\n",
    "        for k, v in zip(self.variable_X, input_values[0]):\n",
    "            if k == \"metabolic-rate\":\n",
    "                v = v * 200\n",
    "            item[k] = v\n",
    "        result = run_simulation(item)\n",
    "        return np.array([result['Avg. glucoses']]).reshape(-1, 1)\n",
    "    \n",
    "    def opt_simulate(self, input_values):\n",
    "        assert len(input_values[0]) == len(self.variable_X)\n",
    "        item = {}\n",
    "        for k, v in zip(self.variable_X, input_values[0]):\n",
    "            if k == \"metabolic-rate\":\n",
    "                v = v * 200\n",
    "            item[k] = v\n",
    "        result = run_simulation(item)\n",
    "        return np.array([np.abs(result['Avg. glucoses'] - 4000)]).reshape(-1, 1)"
   ]
  },
  {
   "cell_type": "markdown",
   "id": "829e421f",
   "metadata": {},
   "source": [
    "# Gaussian Process as emulator"
   ]
  },
  {
   "cell_type": "code",
   "execution_count": 9,
   "id": "83c595ea",
   "metadata": {},
   "outputs": [],
   "source": [
    "import GPy"
   ]
  },
  {
   "cell_type": "code",
   "execution_count": 10,
   "id": "5dd9f50e",
   "metadata": {},
   "outputs": [],
   "source": [
    "kernel_list = [\"RBF\", \"Matern52\", \"Matern32\", \"Exponential\", \"OU\", \"RatQuad\"]\n",
    "# https://scikit-learn.org/stable/modules/gaussian_process.html#gp-kernels\n",
    "# https://gpy.readthedocs.io/en/deploy/GPy.kern.src.html#module-GPy.kern.src.stationary\n",
    "\n",
    "def get_kernel(kernel_name: str, input_dim: int, length_scale: float, variance: float):\n",
    "    # squared-exponential\n",
    "    if kernel_name == \"RBF\":\n",
    "        return GPy.kern.RBF(input_dim=input_dim, variance=variance, lengthscale=length_scale)\n",
    "    # Matern covariance\n",
    "    elif kernel_name == \"Matern52\":\n",
    "        return GPy.kern.Matern52(input_dim=input_dim, variance=variance, lengthscale=length_scale)\n",
    "    elif kernel_name == \"Matern32\":\n",
    "        return GPy.kern.Matern32(input_dim=input_dim, variance=variance, lengthscale=length_scale)\n",
    "    # # periodic covariance\n",
    "    elif kernel_name == \"Periodic\":\n",
    "        return GPy.kern.Periodic(input_dim=input_dim, variance=variance, lengthscale=length_scale)\n",
    "    elif kernel_name == \"Exponential\":\n",
    "        return GPy.kern.Exponential(input_dim=input_dim, variance=variance, lengthscale=length_scale)\n",
    "    elif kernel_name == \"OU\":\n",
    "        return GPy.kern.OU(input_dim=input_dim, variance=variance, lengthscale=length_scale)\n",
    "    elif kernel_name == \"RatQuad\":\n",
    "        return GPy.kern.RatQuad(input_dim=input_dim, variance=variance, lengthscale=length_scale)\n",
    "\n",
    "    else:\n",
    "        raise KeyError(\"Unsupported kernel here.\")"
   ]
  },
  {
   "cell_type": "code",
   "execution_count": 11,
   "id": "2d1ce272",
   "metadata": {},
   "outputs": [],
   "source": [
    "def emulate(method: str, X: list, Y: list, kernel_name: str, length_scale: float, variance: float, noise_var: float = 1e-10, verbose: bool = False):\n",
    "    if method == \"GP\":\n",
    "        model = Gaussian_Process(X, Y, kernel_name, length_scale, variance, verbose, noise_var)\n",
    "        return model\n",
    "    else:\n",
    "        raise ValueError(\"Unsupported Emulator.\")"
   ]
  },
  {
   "cell_type": "code",
   "execution_count": 12,
   "id": "82962bf5",
   "metadata": {},
   "outputs": [],
   "source": [
    "def Gaussian_Process(X: list, Y: list, kernel_name: str, length_scale: float, variance: float, verbose: bool = False, noise_var: float = 1e-10):\n",
    "    if verbose:\n",
    "        print(f\"Using {kernel_name} kernel and Gaussian Process as Emulator.\")\n",
    "    input_dim = len(X[0])\n",
    "    print('input_dim', input_dim)\n",
    "    kernel = get_kernel(kernel_name, input_dim, length_scale, variance)\n",
    "    model = GPy.models.GPRegression(np.array(X), np.array(Y)[:,np.newaxis], kernel, noise_var=noise_var) # noise_var=1e-10\n",
    "    # model.optimize_restarts(num_restarts=10)\n",
    "    # https://gpy.readthedocs.io/en/devel/GPy.models.html\n",
    "    _ = model.optimize(messages=verbose) # Optimize parameters of covariance function\n",
    "    print(_)\n",
    "    print(f\"{kernel_name}-log_likelihood\", model.log_likelihood())\n",
    "    return model"
   ]
  },
  {
   "cell_type": "markdown",
   "id": "1def0fbd",
   "metadata": {},
   "source": [
    "# Bayesian Optimization"
   ]
  },
  {
   "cell_type": "code",
   "execution_count": 13,
   "id": "285a19d3",
   "metadata": {},
   "outputs": [],
   "source": [
    "def get_acquisition_function(fn, model, space):\n",
    "    if fn == \"ivr\":\n",
    "        from emukit.experimental_design.acquisitions import IntegratedVarianceReduction\n",
    "        acquisition_function = IntegratedVarianceReduction(model, space)\n",
    "    elif fn == \"ei\":\n",
    "        from emukit.bayesian_optimization.acquisitions import ExpectedImprovement\n",
    "        acquisition_function = ExpectedImprovement(model=model)\n",
    "    elif fn == \"mv\":\n",
    "        from emukit.experimental_design.acquisitions import ModelVariance\n",
    "        acquisition_function = ModelVariance(model)\n",
    "    else:\n",
    "        raise ValueError(\"Unsupported Acquisition Function.\")\n",
    "    return acquisition_function"
   ]
  },
  {
   "cell_type": "code",
   "execution_count": 14,
   "id": "b582b68c",
   "metadata": {},
   "outputs": [],
   "source": [
    "def fc(x: list, alpha: list=[0.4, 0.2, 0.2, 0.2]):\n",
    "    \"\"\"\n",
    "    Constraints function\n",
    "    \"\"\"\n",
    "    c = (x[0] - 0.4/alpha[0])**2 + ((x[1] - 0.4)/alpha[1])**2 + ((x[2] - 0.5) / alpha[2])**2 + ((x[3] - 0.8)/alpha[3])**2 - 2.5\n",
    "    return np.array(c)"
   ]
  },
  {
   "cell_type": "code",
   "execution_count": 15,
   "id": "b5496aaf",
   "metadata": {},
   "outputs": [],
   "source": [
    "def Bayesian_Optimization(\n",
    "    evaluation_step: int, \n",
    "    X: list,\n",
    "    Y: list,\n",
    "    variable_X: list, \n",
    "    kernel_n: str,\n",
    "    length_scale: float,\n",
    "    variance: float,\n",
    "    acquisition_fn: str,\n",
    "    simulator\n",
    "    ):\n",
    "    if \"metabolic-rate\" in variable_X:\n",
    "        meta_idx = variable_X.index(\"metabolic-rate\")\n",
    "    else:\n",
    "        meta_idx = -1\n",
    "\n",
    "    from emukit.model_wrappers import GPyModelWrapper\n",
    "    from emukit.core import ParameterSpace, ContinuousParameter\n",
    "    from emukit.core.constraints import NonlinearInequalityConstraint\n",
    "\n",
    "    s = []\n",
    "    x_plot = []\n",
    "    for var in variable_X:\n",
    "        if var in [\"insulin-sensitivity\"]:\n",
    "            x_p = np.linspace(0.2, 0.7, 100)\n",
    "            p = ContinuousParameter(var, 0.2, 0.7)\n",
    "        elif var in [\"glucose-sensitivity\"]:\n",
    "            x_p = np.linspace(0.4, 0.7, 100)\n",
    "            p = ContinuousParameter(var, 0.4, 0.7)\n",
    "        elif var in [\"glucagon-sensitivity\"]:\n",
    "            x_p = np.linspace(0.6, 0.9, 100)\n",
    "            p = ContinuousParameter(var, 0.6, 0.9)\n",
    "        else:\n",
    "            x_p = np.linspace(0.3, 0.6, 100)\n",
    "            p = ContinuousParameter(var, 0.3, 0.6)\n",
    "        s.append(p)\n",
    "        x_plot.append(x_p)\n",
    "\n",
    "    space = ParameterSpace(s)\n",
    "    print(\"Bounds: \", space.get_bounds())\n",
    "    space.constraints = [NonlinearInequalityConstraint(\n",
    "        constraint_function=fc,\n",
    "        lower_bound=np.array([-3]),\n",
    "        upper_bound=np.array([0])\n",
    "    )]\n",
    "    \n",
    "    model = emulate(\n",
    "      method=\"GP\",\n",
    "      X=X,\n",
    "      Y=Y,\n",
    "      kernel_name=kernel_n,\n",
    "      length_scale=length_scale,\n",
    "      variance=variance\n",
    "    )\n",
    "    emukit_model = GPyModelWrapper(model)\n",
    "    \n",
    "    acquisition_function = get_acquisition_function(acquisition_fn, emukit_model, space)\n",
    "    \n",
    "    from emukit.core.optimization import GradientAcquisitionOptimizer\n",
    "\n",
    "    # Create acquisition optimizer with constraints\n",
    "    acquisition_optimizer = GradientAcquisitionOptimizer(space)\n",
    "    \n",
    "    from emukit.bayesian_optimization.loops import BayesianOptimizationLoop\n",
    "    bayesopt_loop = BayesianOptimizationLoop(\n",
    "        model = emukit_model,\n",
    "        space = space,\n",
    "        acquisition = acquisition_function,\n",
    "        acquisition_optimizer=acquisition_optimizer,\n",
    "        batch_size = 1)\n",
    "    \n",
    "    if len(variable_X) == 2:\n",
    "        bayesopt_loop.iteration_end_event.append(plot_progress)\n",
    "    \n",
    "    max_iterations = evaluation_step\n",
    "    bayesopt_loop.run_loop(simulator.opt_simulate, max_iterations)\n",
    "    \n",
    "    results = bayesopt_loop.get_results()\n",
    "    return results, bayesopt_loop"
   ]
  },
  {
   "cell_type": "markdown",
   "id": "3ad0a716",
   "metadata": {},
   "source": [
    "# Experiments"
   ]
  },
  {
   "cell_type": "code",
   "execution_count": 16,
   "id": "63a90613",
   "metadata": {},
   "outputs": [],
   "source": [
    "variable_X = [\"metabolic-rate\", \"insulin-sensitivity\", \"glucose-sensitivity\", \"glucagon-sensitivity\"]\n",
    "simulator = Simulator(variable_X)"
   ]
  },
  {
   "cell_type": "code",
   "execution_count": 17,
   "id": "886907ab",
   "metadata": {},
   "outputs": [],
   "source": [
    "X = specify_parameters(\n",
    "    file=r\"../my_sample_data.csv\",\n",
    "    variable_X=variable_X\n",
    ")"
   ]
  },
  {
   "cell_type": "code",
   "execution_count": 18,
   "id": "fec88a0e",
   "metadata": {},
   "outputs": [],
   "source": [
    "Y = [simulator.simulate([p]).reshape(-1)[0] for p in X]"
   ]
  },
  {
   "cell_type": "code",
   "execution_count": 19,
   "id": "dff78f30",
   "metadata": {},
   "outputs": [],
   "source": [
    "assert len(Y) == len(X)"
   ]
  },
  {
   "cell_type": "code",
   "execution_count": 20,
   "id": "f9315c60",
   "metadata": {
    "collapsed": true
   },
   "outputs": [
    {
     "name": "stdout",
     "output_type": "stream",
     "text": [
      "Bounds:  [(0.3, 0.6), (0.2, 0.7), (0.4, 0.7), (0.6, 0.9)]\n",
      "input_dim 4\n",
      "Optimizer: \t\t\t\t L-BFGS-B (Scipy implementation)\n",
      "f(x_opt): \t\t\t\t 78.677\n",
      "Number of function evaluations: \t 86\n",
      "Optimization status: \t\t\t Converged\n",
      "Time elapsed: \t\t\t\t 0:00:00.107470\n",
      "\n",
      "RBF-log_likelihood -78.67685208605414\n"
     ]
    },
    {
     "name": "stderr",
     "output_type": "stream",
     "text": [
      " D:\\Programs\\Anaconda3\\lib\\site-packages\\paramz\\transformations.py:111: RuntimeWarning:overflow encountered in expm1\n",
      " D:\\Programs\\Anaconda3\\lib\\site-packages\\scipy\\optimize\\_hessian_update_strategy.py:182: UserWarning:delta_grad == 0.0. Check if the approximated function is linear. If the function is linear better results can be obtained by defining the Hessian as zero instead of using quasi-Newton approximations.\n"
     ]
    }
   ],
   "source": [
    "Y_select = np.abs(np.array(Y) - 4000)\n",
    "results, model_0 = Bayesian_Optimization(\n",
    "    evaluation_step=10, \n",
    "    X=X,\n",
    "    Y=Y_select,\n",
    "    variable_X=variable_X, \n",
    "    kernel_n=\"RBF\",\n",
    "    length_scale=1,\n",
    "    variance=1,\n",
    "    acquisition_fn=\"ei\",\n",
    "    simulator=simulator\n",
    ")"
   ]
  },
  {
   "cell_type": "code",
   "execution_count": 21,
   "id": "c8a5d117",
   "metadata": {
    "collapsed": true
   },
   "outputs": [
    {
     "data": {
      "text/plain": [
       "array([[0.48      , 0.55      , 0.56      , 0.69      ],\n",
       "       [0.39      , 0.25      , 0.47      , 0.73      ],\n",
       "       [0.33      , 0.59      , 0.58      , 0.75      ],\n",
       "       [0.53      , 0.32      , 0.47      , 0.81      ],\n",
       "       [0.455     , 0.44      , 0.58      , 0.79      ],\n",
       "       [0.415     , 0.31      , 0.43      , 0.87      ],\n",
       "       [0.345     , 0.54      , 0.51      , 0.77      ],\n",
       "       [0.4       , 0.22      , 0.59      , 0.67      ],\n",
       "       [0.56      , 0.51      , 0.55      , 0.72      ],\n",
       "       [0.355     , 0.49      , 0.43      , 0.69      ],\n",
       "       [0.6       , 0.62406366, 0.7       , 0.85827072],\n",
       "       [0.59999852, 0.28338516, 0.69999922, 0.60000246],\n",
       "       [0.6       , 0.6814158 , 0.5663713 , 0.89999998],\n",
       "       [0.59999999, 0.60105643, 0.69999999, 0.68521205],\n",
       "       [0.59999999, 0.62232872, 0.69999997, 0.73542613],\n",
       "       [0.59999996, 0.51683585, 0.69999995, 0.60012662],\n",
       "       [0.59999986, 0.20000127, 0.69999991, 0.89999931],\n",
       "       [0.3       , 0.55194237, 0.7       , 0.9       ],\n",
       "       [0.59999998, 0.49912071, 0.69999999, 0.89999998],\n",
       "       [0.30000005, 0.20098665, 0.69999997, 0.82817238]])"
      ]
     },
     "execution_count": 21,
     "metadata": {},
     "output_type": "execute_result"
    }
   ],
   "source": [
    "model_0.loop_state.X"
   ]
  },
  {
   "cell_type": "code",
   "execution_count": 22,
   "id": "4920c9cc",
   "metadata": {
    "collapsed": true
   },
   "outputs": [
    {
     "data": {
      "text/plain": [
       "array([[1530.2],\n",
       "       [3820.7],\n",
       "       [1712.6],\n",
       "       [3414.5],\n",
       "       [1789.4],\n",
       "       [4468.9],\n",
       "       [2359.6],\n",
       "       [2066.8],\n",
       "       [1446.2],\n",
       "       [3478.4],\n",
       "       [ 386.6],\n",
       "       [ 694.2],\n",
       "       [1614.1],\n",
       "       [ 137.7],\n",
       "       [ 274.5],\n",
       "       [ 266.5],\n",
       "       [1483.6],\n",
       "       [ 683.4],\n",
       "       [ 794.6],\n",
       "       [2003.1]])"
      ]
     },
     "execution_count": 22,
     "metadata": {},
     "output_type": "execute_result"
    }
   ],
   "source": [
    "model_0.loop_state.Y"
   ]
  },
  {
   "cell_type": "code",
   "execution_count": 23,
   "id": "0f588a08",
   "metadata": {},
   "outputs": [
    {
     "data": {
      "text/plain": [
       "137.69999999999982"
      ]
     },
     "execution_count": 23,
     "metadata": {},
     "output_type": "execute_result"
    }
   ],
   "source": [
    "results.minimum_value"
   ]
  },
  {
   "cell_type": "code",
   "execution_count": 24,
   "id": "9cb61c2d",
   "metadata": {},
   "outputs": [
    {
     "data": {
      "text/plain": [
       "array([0.59999999, 0.60105643, 0.69999999, 0.68521205])"
      ]
     },
     "execution_count": 24,
     "metadata": {},
     "output_type": "execute_result"
    }
   ],
   "source": [
    "results.minimum_location"
   ]
  }
 ],
 "metadata": {
  "kernelspec": {
   "display_name": "Python 3",
   "language": "python",
   "name": "python3"
  },
  "language_info": {
   "codemirror_mode": {
    "name": "ipython",
    "version": 3
   },
   "file_extension": ".py",
   "mimetype": "text/x-python",
   "name": "python",
   "nbconvert_exporter": "python",
   "pygments_lexer": "ipython3",
   "version": "3.8.8"
  }
 },
 "nbformat": 4,
 "nbformat_minor": 5
}
